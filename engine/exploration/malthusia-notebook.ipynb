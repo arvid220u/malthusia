{
 "cells": [
  {
   "cell_type": "code",
   "execution_count": 1,
   "id": "8a9f4f3b",
   "metadata": {},
   "outputs": [],
   "source": [
    "import dis\n",
    "from malthusia.engine.container.instrument import Instrument"
   ]
  },
  {
   "cell_type": "code",
   "execution_count": 2,
   "id": "c487d62b",
   "metadata": {},
   "outputs": [],
   "source": [
    "s = \"\"\"\n",
    "l = [1,2,3]\n",
    "x = l.index(2)\n",
    "print(x)\n",
    "y = type(x)\n",
    "print(y)\n",
    "class X:\n",
    " def __init__(self):\n",
    "  self.xxx = [123]\n",
    " def index(self, ix):\n",
    "  if ix == self.xxx:\n",
    "   return \"happy!!\"\n",
    "  else:\n",
    "   print(self.xxx.index(123))\n",
    "   return \"sad:((\"\n",
    "xx = X()\n",
    "print(type(xx))\n",
    "print(type(xx).__module__==\"builtins\")\n",
    "xxx = xx.index(123)\n",
    "print(xxx)\n",
    "\"\"\"\n",
    "c = compile(s, \"source\", \"exec\")"
   ]
  },
  {
   "cell_type": "code",
   "execution_count": 4,
   "id": "dd4ed05e",
   "metadata": {},
   "outputs": [],
   "source": [
    "ci = Instrument.instrument(c, replace_builtins=True, instrument=False)"
   ]
  },
  {
   "cell_type": "code",
   "execution_count": 5,
   "id": "de927b4b",
   "metadata": {},
   "outputs": [],
   "source": [
    "new_builtins = {\"__builtins__\": {\"__instrumented_index\": lambda x, y: 32, \"type\": type, \"__safe_type__\": type, \"print\": print, \"__build_class__\": __build_class__, \"__name__\": \"DANGEROUS_main\"}}"
   ]
  },
  {
   "cell_type": "code",
   "execution_count": 6,
   "id": "b2018c2a",
   "metadata": {},
   "outputs": [],
   "source": [
    "exec(c, new_builtins)"
   ]
  },
  {
   "cell_type": "code",
   "execution_count": 7,
   "id": "84376a24",
   "metadata": {},
   "outputs": [],
   "source": [
    "exec(ci, new_builtins)"
   ]
  },
  {
   "cell_type": "code",
   "execution_count": 3,
   "id": "5b929027",
   "metadata": {},
   "outputs": [],
   "source": [
    "s = \"\"\"\n",
    "def turn():\n",
    "    s = \"hiwerjfpwoerjpoqwejifpoqwejfpoqweijfpoqwejfpoqwejifpowqejfpoqwejfiowqiefjowiqjfepoqwejifpqowiejfpqiwejfpoqwejfpoqwiejfpoijfx\"\n",
    "    log(type(s))\n",
    "    x = str(s)\n",
    "    log(type(x))\n",
    "    s = x.index\n",
    "    ss = s(\"w\")\n",
    "    log(ss)\n",
    "    log(\"bytecodes left: \" + str(get_bytecode()))\n",
    "\n",
    "\"\"\"\n",
    "c = compile(s, \"source\", \"exec\")"
   ]
  },
  {
   "cell_type": "code",
   "execution_count": 8,
   "id": "5276f473",
   "metadata": {},
   "outputs": [
    {
     "name": "stdout",
     "output_type": "stream",
     "text": [
      "  2           0 LOAD_CONST               0 (<code object turn at 0x10f26ea80, file \"source\", line 2>)\n",
      "              2 LOAD_CONST               1 ('turn')\n",
      "              4 MAKE_FUNCTION            0\n",
      "              6 STORE_NAME               0 (turn)\n",
      "              8 LOAD_CONST               2 (None)\n",
      "             10 RETURN_VALUE\n",
      "\n",
      "Disassembly of <code object turn at 0x10f26ea80, file \"source\", line 2>:\n",
      "  3           0 LOAD_CONST               1 ('hiwerjfpwoerjpoqwejifpoqwejfpoqweijfpoqwejfpoqwejifpowqejfpoqwejfiowqiefjowiqjfepoqwejifpqowiejfpqiwejfpoqwejfpoqwiejfpoijfx')\n",
      "              2 STORE_FAST               0 (s)\n",
      "\n",
      "  4           4 LOAD_GLOBAL              0 (log)\n",
      "              6 LOAD_GLOBAL              1 (type)\n",
      "              8 LOAD_FAST                0 (s)\n",
      "             10 CALL_FUNCTION            1\n",
      "             12 CALL_FUNCTION            1\n",
      "             14 POP_TOP\n",
      "\n",
      "  5          16 LOAD_GLOBAL              2 (str)\n",
      "             18 LOAD_FAST                0 (s)\n",
      "             20 CALL_FUNCTION            1\n",
      "             22 STORE_FAST               1 (x)\n",
      "\n",
      "  6          24 LOAD_GLOBAL              0 (log)\n",
      "             26 LOAD_GLOBAL              1 (type)\n",
      "             28 LOAD_FAST                1 (x)\n",
      "             30 CALL_FUNCTION            1\n",
      "             32 CALL_FUNCTION            1\n",
      "             34 POP_TOP\n",
      "\n",
      "  7          36 LOAD_FAST                1 (x)\n",
      "             38 LOAD_ATTR                3 (index)\n",
      "             40 STORE_FAST               0 (s)\n",
      "\n",
      "  8          42 LOAD_FAST                0 (s)\n",
      "             44 LOAD_CONST               2 ('w')\n",
      "             46 CALL_FUNCTION            1\n",
      "             48 STORE_FAST               2 (ss)\n",
      "\n",
      "  9          50 LOAD_GLOBAL              0 (log)\n",
      "             52 LOAD_FAST                2 (ss)\n",
      "             54 CALL_FUNCTION            1\n",
      "             56 POP_TOP\n",
      "\n",
      " 10          58 LOAD_GLOBAL              0 (log)\n",
      "             60 LOAD_CONST               3 ('bytecodes left: ')\n",
      "             62 LOAD_GLOBAL              2 (str)\n",
      "             64 LOAD_GLOBAL              4 (get_bytecode)\n",
      "             66 CALL_FUNCTION            0\n",
      "             68 CALL_FUNCTION            1\n",
      "             70 BINARY_ADD\n",
      "             72 CALL_FUNCTION            1\n",
      "             74 POP_TOP\n",
      "             76 LOAD_CONST               0 (None)\n",
      "             78 RETURN_VALUE\n"
     ]
    }
   ],
   "source": [
    "dis.dis(ci)"
   ]
  },
  {
   "cell_type": "code",
   "execution_count": null,
   "id": "987dc20e",
   "metadata": {},
   "outputs": [],
   "source": []
  }
 ],
 "metadata": {
  "kernelspec": {
   "display_name": "malthusia-env",
   "language": "python",
   "name": "malthusia-env"
  },
  "language_info": {
   "codemirror_mode": {
    "name": "ipython",
    "version": 3
   },
   "file_extension": ".py",
   "mimetype": "text/x-python",
   "name": "python",
   "nbconvert_exporter": "python",
   "pygments_lexer": "ipython3",
   "version": "3.8.11"
  }
 },
 "nbformat": 4,
 "nbformat_minor": 5
}
