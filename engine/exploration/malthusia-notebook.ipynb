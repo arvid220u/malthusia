{
 "cells": [
  {
   "cell_type": "code",
   "execution_count": 1,
   "id": "401f19f3",
   "metadata": {},
   "outputs": [],
   "source": [
    "import dis\n",
    "from malthusia.engine.container.instrument import Instrument"
   ]
  },
  {
   "cell_type": "code",
   "execution_count": 4,
   "id": "d3613b12",
   "metadata": {},
   "outputs": [],
   "source": [
    "s = \"\"\"\n",
    "x = \"hej\"\n",
    "y = x * 100\n",
    "s = {1,2,3}\n",
    "s2 = {5,6}\n",
    "s3 = s ^ s2\n",
    "print(s3)\n",
    "s = \"woiejfqwoiejfioqwejfioqwejfoqwejfoiwejfoiqwejfoijqwef\"\n",
    "\"\"\"\n",
    "c = compile(s, \"source\", \"exec\")"
   ]
  },
  {
   "cell_type": "code",
   "execution_count": 5,
   "id": "1a3eb036",
   "metadata": {},
   "outputs": [],
   "source": [
    "ci = Instrument.instrument(c, replace_builtins=True, instrument=False, instrument_binary_multiply=True)"
   ]
  },
  {
   "cell_type": "code",
   "execution_count": 6,
   "id": "3e5da080",
   "metadata": {},
   "outputs": [
    {
     "data": {
      "text/plain": [
       "('x', 'y', 's', 's2', 's3', 'print')"
      ]
     },
     "execution_count": 6,
     "metadata": {},
     "output_type": "execute_result"
    }
   ],
   "source": [
    "c.co_names"
   ]
  },
  {
   "cell_type": "code",
   "execution_count": 7,
   "id": "c7d516e6",
   "metadata": {},
   "outputs": [],
   "source": [
    "new_builtins = {\"__builtins__\": \n",
    "                {\"__instrumented_index\": lambda x, y: 32, \n",
    "                 \"type\": type, \"__safe_type__\": type, \n",
    "                 \"print\": print, \n",
    "                 \"__instrument_binary_multiply__\": lambda a,b: print(f\"instrumenting {a} * {b}\"), \n",
    "                 \"__build_class__\": __build_class__, \n",
    "                 \"__name__\": \"DANGEROUS_main\"\n",
    "                }\n",
    "               }"
   ]
  },
  {
   "cell_type": "code",
   "execution_count": 8,
   "id": "fc2b3cc3",
   "metadata": {},
   "outputs": [
    {
     "name": "stdout",
     "output_type": "stream",
     "text": [
      "{1, 2, 3, 5, 6}\n"
     ]
    }
   ],
   "source": [
    "exec(c, new_builtins)"
   ]
  },
  {
   "cell_type": "code",
   "execution_count": 9,
   "id": "da579265",
   "metadata": {},
   "outputs": [
    {
     "name": "stdout",
     "output_type": "stream",
     "text": [
      "instrumenting hej * 100\n",
      "{1, 2, 3, 5, 6}\n"
     ]
    }
   ],
   "source": [
    "exec(ci, new_builtins)"
   ]
  },
  {
   "cell_type": "code",
   "execution_count": 10,
   "id": "bcf550ed",
   "metadata": {},
   "outputs": [
    {
     "name": "stdout",
     "output_type": "stream",
     "text": [
      "  2           0 LOAD_CONST               0 ('hej')\n",
      "              2 STORE_NAME               0 (x)\n",
      "\n",
      "  3           4 LOAD_NAME                0 (x)\n",
      "              6 LOAD_CONST               1 (100)\n",
      "              8 DUP_TOP_TWO\n",
      "             10 LOAD_GLOBAL              8 (__instrument_binary_multiply__)\n",
      "             12 ROT_THREE\n",
      "             14 CALL_FUNCTION            2\n",
      "             16 POP_TOP\n",
      "             18 BINARY_MULTIPLY\n",
      "             20 STORE_NAME               1 (y)\n",
      "\n",
      "  4          22 LOAD_CONST               2 (1)\n",
      "             24 LOAD_CONST               3 (2)\n",
      "             26 LOAD_CONST               4 (3)\n",
      "             28 BUILD_SET                3\n",
      "             30 STORE_NAME               2 (s)\n",
      "\n",
      "  5          32 LOAD_CONST               5 (5)\n",
      "             34 LOAD_CONST               6 (6)\n",
      "             36 BUILD_SET                2\n",
      "             38 STORE_NAME               3 (s2)\n",
      "\n",
      "  6          40 LOAD_NAME                2 (s)\n",
      "             42 LOAD_NAME                3 (s2)\n",
      "             44 BINARY_XOR\n",
      "             46 STORE_NAME               4 (s3)\n",
      "\n",
      "  7          48 LOAD_NAME                5 (print)\n",
      "             50 LOAD_NAME                4 (s3)\n",
      "             52 CALL_FUNCTION            1\n",
      "             54 POP_TOP\n",
      "\n",
      "  8          56 LOAD_CONST               7 ('woiejfqwoiejfioqwejfioqwejfoqwejfoiwejfoiqwejfoijqwef')\n",
      "             58 STORE_NAME               2 (s)\n",
      "             60 LOAD_CONST               8 (None)\n",
      "             62 RETURN_VALUE\n"
     ]
    }
   ],
   "source": [
    "dis.dis(ci)"
   ]
  },
  {
   "cell_type": "code",
   "execution_count": null,
   "id": "e8c03699",
   "metadata": {},
   "outputs": [],
   "source": []
  }
 ],
 "metadata": {
  "kernelspec": {
   "display_name": "malthusia-env",
   "language": "python",
   "name": "malthusia-env"
  },
  "language_info": {
   "codemirror_mode": {
    "name": "ipython",
    "version": 3
   },
   "file_extension": ".py",
   "mimetype": "text/x-python",
   "name": "python",
   "nbconvert_exporter": "python",
   "pygments_lexer": "ipython3",
   "version": "3.8.11"
  }
 },
 "nbformat": 4,
 "nbformat_minor": 5
}
